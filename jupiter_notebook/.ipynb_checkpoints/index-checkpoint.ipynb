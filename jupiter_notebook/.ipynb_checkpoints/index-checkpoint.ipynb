{
 "cells": [
  {
   "cell_type": "markdown",
   "id": "296e693a",
   "metadata": {},
   "source": [
    "# Indexing"
   ]
  },
  {
   "cell_type": "code",
   "execution_count": 1,
   "id": "08d9c5b5",
   "metadata": {},
   "outputs": [],
   "source": [
    "a=(\"Amjad Iqbal\")"
   ]
  },
  {
   "cell_type": "code",
   "execution_count": 2,
   "id": "fe59103b",
   "metadata": {},
   "outputs": [
    {
     "data": {
      "text/plain": [
       "'Amjad Iqbal'"
      ]
     },
     "execution_count": 2,
     "metadata": {},
     "output_type": "execute_result"
    }
   ],
   "source": [
    "a"
   ]
  },
  {
   "cell_type": "code",
   "execution_count": 3,
   "id": "6209b1f3",
   "metadata": {},
   "outputs": [
    {
     "data": {
      "text/plain": [
       "11"
      ]
     },
     "execution_count": 3,
     "metadata": {},
     "output_type": "execute_result"
    }
   ],
   "source": [
    "len(a)"
   ]
  },
  {
   "cell_type": "code",
   "execution_count": 4,
   "id": "595b5a51",
   "metadata": {},
   "outputs": [
    {
     "data": {
      "text/plain": [
       "'d'"
      ]
     },
     "execution_count": 4,
     "metadata": {},
     "output_type": "execute_result"
    }
   ],
   "source": [
    "a[4]"
   ]
  },
  {
   "cell_type": "code",
   "execution_count": 5,
   "id": "738e19ab",
   "metadata": {},
   "outputs": [
    {
     "data": {
      "text/plain": [
       "'l'"
      ]
     },
     "execution_count": 5,
     "metadata": {},
     "output_type": "execute_result"
    }
   ],
   "source": [
    "a[10]"
   ]
  },
  {
   "cell_type": "code",
   "execution_count": 6,
   "id": "8f5bb9a6",
   "metadata": {},
   "outputs": [
    {
     "data": {
      "text/plain": [
       "'a'"
      ]
     },
     "execution_count": 6,
     "metadata": {},
     "output_type": "execute_result"
    }
   ],
   "source": [
    "a[9]"
   ]
  },
  {
   "cell_type": "code",
   "execution_count": 7,
   "id": "983c015b",
   "metadata": {},
   "outputs": [
    {
     "data": {
      "text/plain": [
       "'Amjad Iqb'"
      ]
     },
     "execution_count": 7,
     "metadata": {},
     "output_type": "execute_result"
    }
   ],
   "source": [
    "a[0:9]"
   ]
  },
  {
   "cell_type": "code",
   "execution_count": 8,
   "id": "7c764549",
   "metadata": {},
   "outputs": [
    {
     "data": {
      "text/plain": [
       "'Amjad Iqba'"
      ]
     },
     "execution_count": 8,
     "metadata": {},
     "output_type": "execute_result"
    }
   ],
   "source": [
    "a[0:10]"
   ]
  },
  {
   "cell_type": "code",
   "execution_count": 9,
   "id": "af02ad24",
   "metadata": {},
   "outputs": [
    {
     "data": {
      "text/plain": [
       "'Amjad Iqbal'"
      ]
     },
     "execution_count": 9,
     "metadata": {},
     "output_type": "execute_result"
    }
   ],
   "source": [
    "a[0:11]"
   ]
  },
  {
   "cell_type": "code",
   "execution_count": 10,
   "id": "e4cf7944",
   "metadata": {},
   "outputs": [
    {
     "data": {
      "text/plain": [
       "'Amjad Iqbal'"
      ]
     },
     "execution_count": 10,
     "metadata": {},
     "output_type": "execute_result"
    }
   ],
   "source": [
    "a[0:12]"
   ]
  },
  {
   "cell_type": "code",
   "execution_count": 11,
   "id": "fa3d1589",
   "metadata": {},
   "outputs": [
    {
     "data": {
      "text/plain": [
       "'Amjad Iqbal'"
      ]
     },
     "execution_count": 11,
     "metadata": {},
     "output_type": "execute_result"
    }
   ],
   "source": [
    "a.format()"
   ]
  },
  {
   "cell_type": "code",
   "execution_count": 12,
   "id": "92f47b35",
   "metadata": {},
   "outputs": [
    {
     "data": {
      "text/plain": [
       "'Amjad iqbal'"
      ]
     },
     "execution_count": 12,
     "metadata": {},
     "output_type": "execute_result"
    }
   ],
   "source": [
    "a.capitalize()"
   ]
  },
  {
   "cell_type": "code",
   "execution_count": 13,
   "id": "51826adb",
   "metadata": {},
   "outputs": [
    {
     "data": {
      "text/plain": [
       "'AMJAD IQBAL'"
      ]
     },
     "execution_count": 13,
     "metadata": {},
     "output_type": "execute_result"
    }
   ],
   "source": [
    "a.upper()"
   ]
  },
  {
   "cell_type": "code",
   "execution_count": 14,
   "id": "ac4b49f2",
   "metadata": {},
   "outputs": [
    {
     "data": {
      "text/plain": [
       "1"
      ]
     },
     "execution_count": 14,
     "metadata": {},
     "output_type": "execute_result"
    }
   ],
   "source": [
    "a.count(a)"
   ]
  },
  {
   "cell_type": "code",
   "execution_count": 16,
   "id": "a786a633",
   "metadata": {},
   "outputs": [
    {
     "data": {
      "text/plain": [
       "'amjad iqbal'"
      ]
     },
     "execution_count": 16,
     "metadata": {},
     "output_type": "execute_result"
    }
   ],
   "source": [
    "a.casefold()"
   ]
  },
  {
   "cell_type": "code",
   "execution_count": 17,
   "id": "3ce51c6c",
   "metadata": {},
   "outputs": [
    {
     "data": {
      "text/plain": [
       "'Amjad iqbal'"
      ]
     },
     "execution_count": 17,
     "metadata": {},
     "output_type": "execute_result"
    }
   ],
   "source": [
    "a.capitalize()"
   ]
  },
  {
   "cell_type": "code",
   "execution_count": 18,
   "id": "6fa42987",
   "metadata": {
    "scrolled": true
   },
   "outputs": [
    {
     "data": {
      "text/plain": [
       "b'Amjad Iqbal'"
      ]
     },
     "execution_count": 18,
     "metadata": {},
     "output_type": "execute_result"
    }
   ],
   "source": [
    "a.encode()"
   ]
  },
  {
   "cell_type": "code",
   "execution_count": 20,
   "id": "2621741b",
   "metadata": {},
   "outputs": [
    {
     "data": {
      "text/plain": [
       "'Asjad Iqbal'"
      ]
     },
     "execution_count": 20,
     "metadata": {},
     "output_type": "execute_result"
    }
   ],
   "source": [
    "a.replace(\"m\",\"s\")"
   ]
  },
  {
   "cell_type": "code",
   "execution_count": 21,
   "id": "80f3f919",
   "metadata": {},
   "outputs": [
    {
     "data": {
      "text/plain": [
       "'Amjad Iqbal'"
      ]
     },
     "execution_count": 21,
     "metadata": {},
     "output_type": "execute_result"
    }
   ],
   "source": [
    "a.replace(\"s\",\"m\")"
   ]
  },
  {
   "cell_type": "code",
   "execution_count": 23,
   "id": "d168c709",
   "metadata": {},
   "outputs": [
    {
     "data": {
      "text/plain": [
       "7"
      ]
     },
     "execution_count": 23,
     "metadata": {},
     "output_type": "execute_result"
    }
   ],
   "source": [
    "a.find(\"q\")"
   ]
  },
  {
   "cell_type": "code",
   "execution_count": 24,
   "id": "b3685c43",
   "metadata": {},
   "outputs": [
    {
     "data": {
      "text/plain": [
       "['Amjad Iqbal']"
      ]
     },
     "execution_count": 24,
     "metadata": {},
     "output_type": "execute_result"
    }
   ],
   "source": [
    "a.split(\",\")"
   ]
  },
  {
   "cell_type": "code",
   "execution_count": null,
   "id": "a66b5c7b",
   "metadata": {},
   "outputs": [],
   "source": []
  }
 ],
 "metadata": {
  "kernelspec": {
   "display_name": "Python 3 (ipykernel)",
   "language": "python",
   "name": "python3"
  },
  "language_info": {
   "codemirror_mode": {
    "name": "ipython",
    "version": 3
   },
   "file_extension": ".py",
   "mimetype": "text/x-python",
   "name": "python",
   "nbconvert_exporter": "python",
   "pygments_lexer": "ipython3",
   "version": "3.9.12"
  }
 },
 "nbformat": 4,
 "nbformat_minor": 5
}

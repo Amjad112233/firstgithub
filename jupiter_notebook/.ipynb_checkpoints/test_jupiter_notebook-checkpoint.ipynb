{
 "cells": [
  {
   "cell_type": "markdown",
   "id": "11e2a090",
   "metadata": {},
   "source": [
    "# Python ka chilla with Amjad\n",
    "## How to use Jupiter Note Book\n",
    "### Basics of python\n",
    "\n",
    "\n",
    "#### 1- My first program"
   ]
  },
  {
   "cell_type": "code",
   "execution_count": 2,
   "id": "16427f0a",
   "metadata": {},
   "outputs": [
    {
     "name": "stdout",
     "output_type": "stream",
     "text": [
      "5\n",
      "Hello World\n",
      "we are learning python with amjad\n"
     ]
    }
   ],
   "source": [
    "print(2+3)\n",
    "print(\"Hello World\")\n",
    "print(\"we are learning python with amjad\")"
   ]
  },
  {
   "cell_type": "markdown",
   "id": "7b7233e2",
   "metadata": {},
   "source": [
    "# 2 - Operators"
   ]
  }
 ],
 "metadata": {
  "kernelspec": {
   "display_name": "Python 3 (ipykernel)",
   "language": "python",
   "name": "python3"
  },
  "language_info": {
   "codemirror_mode": {
    "name": "ipython",
    "version": 3
   },
   "file_extension": ".py",
   "mimetype": "text/x-python",
   "name": "python",
   "nbconvert_exporter": "python",
   "pygments_lexer": "ipython3",
   "version": "3.9.12"
  }
 },
 "nbformat": 4,
 "nbformat_minor": 5
}

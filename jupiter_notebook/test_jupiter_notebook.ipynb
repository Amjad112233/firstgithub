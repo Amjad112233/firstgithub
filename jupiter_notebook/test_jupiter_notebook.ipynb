{
 "cells": [
  {
   "cell_type": "markdown",
   "id": "11e2a090",
   "metadata": {},
   "source": [
    "# Python ka chilla with Amjad\n",
    "## How to use Jupiter Note Book\n",
    "### Basics of python\n",
    "\n",
    "**01- My first program**"
   ]
  },
  {
   "cell_type": "code",
   "execution_count": 1,
   "id": "16427f0a",
   "metadata": {},
   "outputs": [
    {
     "name": "stdout",
     "output_type": "stream",
     "text": [
      "5\n",
      "Hello World\n",
      "we are learning python with amjad\n"
     ]
    }
   ],
   "source": [
    "print(2+3)\n",
    "print(\"Hello World\")\n",
    "print(\"we are learning python with amjad\")"
   ]
  },
  {
   "cell_type": "markdown",
   "id": "6092f79a",
   "metadata": {},
   "source": [
    "**02 - Operators**"
   ]
  },
  {
   "cell_type": "code",
   "execution_count": 2,
   "id": "58606570",
   "metadata": {
    "scrolled": true
   },
   "outputs": [
    {
     "name": "stdout",
     "output_type": "stream",
     "text": [
      "11\n",
      "5\n",
      "9\n",
      "4.0\n",
      "9\n",
      "1\n",
      "4\n",
      "11\n"
     ]
    }
   ],
   "source": [
    "print (2+9)\n",
    "print (9-4)\n",
    "print (3*3)\n",
    "print (8/2)\n",
    "print (3**2)\n",
    "\n",
    "print (13%2)\n",
    "print (8//2)\n",
    "print ((2**3)//2*3//2+9-4)"
   ]
  },
  {
   "cell_type": "markdown",
   "id": "92ba30f7",
   "metadata": {},
   "source": [
    "*PEMDAS\n",
    "Parenthesis-Exponent-Multiply-Divide-Addition-Substraction\n",
    "Left to right ewquence for M-D & A-S*"
   ]
  },
  {
   "cell_type": "markdown",
   "id": "d410d505",
   "metadata": {},
   "source": [
    "**03 - Strings**"
   ]
  },
  {
   "cell_type": "code",
   "execution_count": 3,
   "id": "d8b92a40",
   "metadata": {},
   "outputs": [
    {
     "name": "stdout",
     "output_type": "stream",
     "text": [
      "Hello World\n",
      "we are learning python with amjad\n",
      "Test for single quotes\n",
      " test for double quotes\n",
      "  test for triple quotes\n",
      "What's up     ?\n"
     ]
    }
   ],
   "source": [
    "print(\"Hello World\")\n",
    "print(\"we are learning python with amjad\")\n",
    "\n",
    "print ('Test for single quotes')\n",
    "print (\" test for double quotes\")\n",
    "print ('''  test for triple quotes''')\n",
    "\n",
    "print (\"What's up     ?\")\n"
   ]
  },
  {
   "cell_type": "markdown",
   "id": "95c1d796",
   "metadata": {},
   "source": [
    "**04 - Comments in Python**"
   ]
  },
  {
   "cell_type": "code",
   "execution_count": 4,
   "id": "a25a8f7c",
   "metadata": {
    "scrolled": true
   },
   "outputs": [
    {
     "name": "stdout",
     "output_type": "stream",
     "text": [
      "How are you ?\n",
      "I am well and fine.\n",
      "6\n"
     ]
    }
   ],
   "source": [
    "print (\"How are you ?\")\n",
    "print (\"I am well and fine.\")\n",
    "print (2+4)\n"
   ]
  },
  {
   "cell_type": "markdown",
   "id": "35f45834",
   "metadata": {},
   "source": [
    "**05 - Variables**"
   ]
  },
  {
   "cell_type": "code",
   "execution_count": 5,
   "id": "2763dc6b",
   "metadata": {},
   "outputs": [
    {
     "name": "stdout",
     "output_type": "stream",
     "text": [
      "9\n",
      "we are learning python with amjad\n",
      "14\n",
      "<class 'int'>\n",
      "<class 'str'>\n",
      "Mangoes , Oranges , Banana\n",
      "<class 'str'>\n"
     ]
    }
   ],
   "source": [
    "# variables : objects containing specific values\n",
    "\n",
    "x = 9                                          # numeric or integer variable\n",
    "print (x)\n",
    "\n",
    "y = \"we are learning python with amjad\"        # string variable\n",
    "print(y)\n",
    "x= x+5\n",
    "print(x)\n",
    "\n",
    "#types/class of variables\n",
    "\n",
    "print(type(x))\n",
    "print(type(y))\n",
    "\n",
    "\n",
    "\n",
    "fruit_baseket= \"Mangoes , Oranges , Banana\"\n",
    "fruit_baseket\n",
    "print(fruit_baseket)\n",
    "print(type(fruit_baseket))"
   ]
  },
  {
   "cell_type": "markdown",
   "id": "3dbeb558",
   "metadata": {},
   "source": [
    " **Rules to assign a variables**\n",
    " \n",
    " 1- The vriable should contain letters, numbers or underscores\n",
    " \n",
    " 2- Do not start with numbers\n",
    " \n",
    " 3- Spaces are not allowed\n",
    " \n",
    " 4- Do not use keywords used in functions (break,mean,median,test etc..)\n",
    " \n",
    " 5- Short and descriptive\n",
    " \n",
    " 6- Case senstivity (lowercase letter,uppercase letter,,should always use lowercase letter)"
   ]
  },
  {
   "cell_type": "markdown",
   "id": "612d0daa",
   "metadata": {},
   "source": [
    "**06 - Input Variables**"
   ]
  },
  {
   "cell_type": "code",
   "execution_count": 1,
   "id": "879a7f4d",
   "metadata": {},
   "outputs": [
    {
     "name": "stdout",
     "output_type": "stream",
     "text": [
      "Banana\n",
      "What is your favourite fruit? banana\n",
      "banana\n",
      "What is your name? Amjad\n",
      "Hello! Amjad\n",
      "What is your name? Amjad\n",
      "Hello!  Amjad\n",
      "What is your name? Amjad\n",
      "How old are you? 12\n",
      "Hello!  Amjad ,you are still young\n"
     ]
    }
   ],
   "source": [
    " fruit_baseket=\"Banana\"\n",
    " print(fruit_baseket)\n",
    "\n",
    "# input function\n",
    " fruit_baseket = input(\"What is your favourite fruit? \")\n",
    " print(fruit_baseket)\n",
    "\n",
    "#input function of 2nd stage\n",
    " name = input(\"What is your name? \")\n",
    " Greeting=\"Hello!\"\n",
    " print(Greeting, name)\n",
    "\n",
    "# Another way of stage 2 input function\n",
    " name=input(\"What is your name? \")\n",
    " print(\"Hello! \",name)\n",
    "\n",
    "# 3rd stage of input function\n",
    "name=input(\"What is your name? \")\n",
    "age=input(\"How old are you? \")\n",
    " greeting=\"Hello!\"\n",
    "\n",
    "print(\"Hello! \" ,name, \",you are still young\")\n"
   ]
  },
  {
   "cell_type": "markdown",
   "id": "4ba20726",
   "metadata": {},
   "source": [
    "**07 - Conditional Logic**"
   ]
  },
  {
   "cell_type": "code",
   "execution_count": 3,
   "id": "3448b27a",
   "metadata": {},
   "outputs": [
    {
     "name": "stdout",
     "output_type": "stream",
     "text": [
      "True\n",
      "False\n",
      "True\n",
      "True\n",
      "True\n",
      "True\n",
      "False\n",
      "How old is hammad? 4\n",
      "<class 'int'>\n",
      "False\n"
     ]
    }
   ],
   "source": [
    "# Logical operators are \"true or false\" \"yes or no\" \"0 or 1\"\n",
    "# equal to                      ==\n",
    "# not equal to                  !=\n",
    "# Less than                      <\n",
    "# greater than                   >\n",
    "# Less than and equal to        <=\n",
    "# greater than and equal to     >=\n",
    "\n",
    "print (4==4)\n",
    "print (4!=4)\n",
    "print (3<9)\n",
    "print (8>4)\n",
    "print (3<=7)\n",
    "print (8>=2)\n",
    "\n",
    "# Application of logical operators\n",
    "hammad_age=4\n",
    "age_at_school=5\n",
    "print(hammad_age==age_at_school)\n",
    "\n",
    "# input function and logical operators\n",
    "age_at_school=5\n",
    "hammad_age=input(\"How old is hammad? \")\n",
    "hammad_age=int(hammad_age)\n",
    "print(type(hammad_age))\n",
    "print(hammad_age>=age_at_school)"
   ]
  },
  {
   "cell_type": "markdown",
   "id": "047b6fad",
   "metadata": {},
   "source": [
    "**08 - Type conversions**"
   ]
  },
  {
   "cell_type": "markdown",
   "id": "ecc82044",
   "metadata": {},
   "source": [
    "**implicit type conversion**"
   ]
  },
  {
   "cell_type": "code",
   "execution_count": 6,
   "id": "83c41a11",
   "metadata": {},
   "outputs": [
    {
     "name": "stdout",
     "output_type": "stream",
     "text": [
      "20.2 Type of x: <class 'float'>\n"
     ]
    }
   ],
   "source": [
    "x = 10          # integer\n",
    "y = 10.2        # float\n",
    "z = \"Hello\"     # string\n",
    "\n",
    "x = x+y\n",
    "print(x, \"Type of x:\" ,type(x))"
   ]
  },
  {
   "cell_type": "markdown",
   "id": "76a8c9b4",
   "metadata": {},
   "source": [
    "**Explicit type conversion**\n"
   ]
  },
  {
   "cell_type": "code",
   "execution_count": 7,
   "id": "f9eb8ed0",
   "metadata": {},
   "outputs": [
    {
     "name": "stdout",
     "output_type": "stream",
     "text": [
      "What is your age: 30\n",
      "30 <class 'int'>\n",
      "What is your name: Amjad\n",
      "Amjad <class 'str'>\n"
     ]
    }
   ],
   "source": [
    "\n",
    "age=input(\"What is your age: \")\n",
    "#age=int(age)\n",
    "print(age,type(int(age)))\n",
    "\n",
    "name=input(\"What is your name: \")\n",
    "print(name,type(str(name)))"
   ]
  },
  {
   "cell_type": "markdown",
   "id": "9462fd62",
   "metadata": {},
   "source": [
    "**09 - If,Else and Elif**"
   ]
  },
  {
   "cell_type": "code",
   "execution_count": 9,
   "id": "b91d61f5",
   "metadata": {},
   "outputs": [
    {
     "name": "stdout",
     "output_type": "stream",
     "text": [
      "Hammad can join higher secondary school\n"
     ]
    }
   ],
   "source": [
    "hammad_age=10\n",
    "required_age_at_school=5\n",
    "\n",
    "# question: can hammad go to school\n",
    "\n",
    "if hammad_age==required_age_at_school:\n",
    "    print(\"Hammad can join the school\")\n",
    "elif hammad_age > required_age_at_school:\n",
    "    print(\"Hammad can join higher secondary school\")\n",
    "elif hammad_age<=2:\n",
    "    print(\"Take care of hammad, he is still a baby\")\n",
    "else:\n",
    "    print(\"Hammad can not go to school\")"
   ]
  },
  {
   "cell_type": "markdown",
   "id": "3170c5c5",
   "metadata": {},
   "source": [
    "**10 - Functions**"
   ]
  },
  {
   "cell_type": "markdown",
   "id": "4216e941",
   "metadata": {},
   "source": [
    "**defining a function**\n",
    "\n",
    "**1-**"
   ]
  },
  {
   "cell_type": "code",
   "execution_count": 14,
   "id": "df864caf",
   "metadata": {},
   "outputs": [
    {
     "name": "stdout",
     "output_type": "stream",
     "text": [
      "I am Amjad Iqbal\n",
      "I am Amjad Iqbal\n",
      "I am Amjad Iqbal\n"
     ]
    }
   ],
   "source": [
    "def print_codanics():\n",
    "     print(\"I am Amjad Iqbal\")\n",
    "     print(\"I am Amjad Iqbal\")\n",
    "     print(\"I am Amjad Iqbal\")\n",
    "\n",
    "print_codanics()"
   ]
  },
  {
   "cell_type": "markdown",
   "id": "36726a9e",
   "metadata": {},
   "source": [
    "**2-**"
   ]
  },
  {
   "cell_type": "code",
   "execution_count": 15,
   "id": "ca0ac089",
   "metadata": {},
   "outputs": [
    {
     "name": "stdout",
     "output_type": "stream",
     "text": [
      "I am Amjad Iqbal Bangash\n",
      "I am Amjad Iqbal Bangash\n",
      "I am Amjad Iqbal Bangash\n"
     ]
    }
   ],
   "source": [
    "def print_codanics():\n",
    "     text=\"I am Amjad Iqbal Bangash\"\n",
    "     print(text)\n",
    "     print(text)\n",
    "     print(text)\n",
    "\n",
    "print_codanics()"
   ]
  },
  {
   "cell_type": "markdown",
   "id": "f0d514c8",
   "metadata": {},
   "source": [
    "**3-**"
   ]
  },
  {
   "cell_type": "code",
   "execution_count": 16,
   "id": "c3813d9b",
   "metadata": {},
   "outputs": [
    {
     "name": "stdout",
     "output_type": "stream",
     "text": [
      "I am Amjad Iqbal Khan\n",
      "I am Amjad Iqbal Khan\n",
      "I am Amjad Iqbal Khan\n"
     ]
    }
   ],
   "source": [
    "def print_codanics(text):\n",
    "     print(text)\n",
    "     print(text)\n",
    "     print(text)\n",
    "\n",
    "print_codanics(\"I am Amjad Iqbal Khan\")"
   ]
  },
  {
   "cell_type": "markdown",
   "id": "978075ff",
   "metadata": {},
   "source": [
    "**4- defining a function with if,elif and else statement**\n"
   ]
  },
  {
   "cell_type": "code",
   "execution_count": 17,
   "id": "9f4f5d2f",
   "metadata": {},
   "outputs": [
    {
     "name": "stdout",
     "output_type": "stream",
     "text": [
      "Bushra join the school\n"
     ]
    }
   ],
   "source": [
    "def school_calculator(age):\n",
    "     if age==5:\n",
    "         print(\"Bushra join the school\")\n",
    "     elif age>5:\n",
    "         print(\"Bushra join SSC\")\n",
    "     else:\n",
    "         print(\"Bushra still a baby\")\n",
    "\n",
    "school_calculator(5)"
   ]
  },
  {
   "cell_type": "markdown",
   "id": "6915805c",
   "metadata": {},
   "source": [
    "**Define a function of future**"
   ]
  },
  {
   "cell_type": "code",
   "execution_count": 19,
   "id": "5282e47f",
   "metadata": {},
   "outputs": [
    {
     "name": "stdout",
     "output_type": "stream",
     "text": [
      "40\n"
     ]
    }
   ],
   "source": [
    "def future_age(age):\n",
    "    new_age=age+20\n",
    "    return new_age\n",
    "\n",
    "future_predicted_age=future_age(20)\n",
    "print(future_predicted_age)"
   ]
  },
  {
   "cell_type": "markdown",
   "id": "9385ad67",
   "metadata": {},
   "source": [
    "**11 - Loops**\n",
    "\n",
    "**while and for loops**"
   ]
  },
  {
   "cell_type": "markdown",
   "id": "0275fa77",
   "metadata": {},
   "source": [
    "**1 - while loops**"
   ]
  },
  {
   "cell_type": "code",
   "execution_count": 35,
   "id": "d2b7ade9",
   "metadata": {},
   "outputs": [],
   "source": [
    "x=0\n",
    "while (x==4):\n",
    "    print(x)\n",
    "    x=x+1"
   ]
  },
  {
   "cell_type": "markdown",
   "id": "c8e7020d",
   "metadata": {},
   "source": [
    "**for loops**"
   ]
  },
  {
   "cell_type": "code",
   "execution_count": 32,
   "id": "5a9be4e0",
   "metadata": {},
   "outputs": [
    {
     "name": "stdout",
     "output_type": "stream",
     "text": [
      "3\n",
      "4\n",
      "5\n",
      "6\n",
      "7\n"
     ]
    }
   ],
   "source": [
    " for x in range(3,8):\n",
    "        print(x)\n"
   ]
  },
  {
   "cell_type": "markdown",
   "id": "f8b2d4ad",
   "metadata": {},
   "source": [
    "**Array**"
   ]
  },
  {
   "cell_type": "code",
   "execution_count": 50,
   "id": "ac089370",
   "metadata": {},
   "outputs": [
    {
     "ename": "IndentationError",
     "evalue": "unexpected indent (2474498026.py, line 2)",
     "output_type": "error",
     "traceback": [
      "\u001b[1;36m  Input \u001b[1;32mIn [50]\u001b[1;36m\u001b[0m\n\u001b[1;33m    for days in d:\u001b[0m\n\u001b[1;37m    ^\u001b[0m\n\u001b[1;31mIndentationError\u001b[0m\u001b[1;31m:\u001b[0m unexpected indent\n"
     ]
    }
   ],
   "source": [
    "days =(\"Mon\", \"Tue\", \"Wed\", \"Thur\", \"Fri\", \"Sat\", \"Sun\")\n",
    "    for days in d:\n",
    "        print(days)"
   ]
  },
  {
   "cell_type": "markdown",
   "id": "c1ef2624",
   "metadata": {},
   "source": [
    "**12 - Import libraries**"
   ]
  },
  {
   "cell_type": "code",
   "execution_count": 51,
   "id": "d1e7fce2",
   "metadata": {},
   "outputs": [
    {
     "name": "stdout",
     "output_type": "stream",
     "text": [
      "The value of pi is  3.141592653589793\n",
      "53\n"
     ]
    }
   ],
   "source": [
    "# if you print the value of pi\n",
    "\n",
    "import math\n",
    "print(\"The value of pi is \",math.pi)\n",
    "\n",
    "import statistics\n",
    "x= [12,13,88,99]\n",
    "print(statistics.mean(x))"
   ]
  },
  {
   "cell_type": "markdown",
   "id": "ec7ec202",
   "metadata": {},
   "source": [
    "**13 - Trouble Shootiing**"
   ]
  },
  {
   "cell_type": "code",
   "execution_count": 54,
   "id": "3bf780f3",
   "metadata": {},
   "outputs": [
    {
     "ename": "SyntaxError",
     "evalue": "invalid syntax (1787721499.py, line 1)",
     "output_type": "error",
     "traceback": [
      "\u001b[1;36m  Input \u001b[1;32mIn [54]\u001b[1;36m\u001b[0m\n\u001b[1;33m    print(we are learning python with amjad) # Syntax error\u001b[0m\n\u001b[1;37m             ^\u001b[0m\n\u001b[1;31mSyntaxError\u001b[0m\u001b[1;31m:\u001b[0m invalid syntax\n"
     ]
    }
   ],
   "source": [
    "print(we are learning python with amjad) # Syntax error\n",
    "\n",
    "\n",
    "\n"
   ]
  },
  {
   "cell_type": "code",
   "execution_count": 55,
   "id": "f1258c0b",
   "metadata": {},
   "outputs": [
    {
     "ename": "ZeroDivisionError",
     "evalue": "division by zero",
     "output_type": "error",
     "traceback": [
      "\u001b[1;31m---------------------------------------------------------------------------\u001b[0m",
      "\u001b[1;31mZeroDivisionError\u001b[0m                         Traceback (most recent call last)",
      "Input \u001b[1;32mIn [55]\u001b[0m, in \u001b[0;36m<cell line: 1>\u001b[1;34m()\u001b[0m\n\u001b[1;32m----> 1\u001b[0m \u001b[38;5;28mprint\u001b[39m(\u001b[38;5;241;43m29\u001b[39;49m\u001b[38;5;241;43m/\u001b[39;49m\u001b[38;5;241;43m0\u001b[39;49m)\n",
      "\u001b[1;31mZeroDivisionError\u001b[0m: division by zero"
     ]
    }
   ],
   "source": [
    "print(29/0) #runtime error"
   ]
  },
  {
   "cell_type": "code",
   "execution_count": 56,
   "id": "4c69ce02",
   "metadata": {},
   "outputs": [
    {
     "name": "stdout",
     "output_type": "stream",
     "text": [
      "Hello Amjad\n"
     ]
    }
   ],
   "source": [
    "name = \"Amjad\"\n",
    "print(\"Hello \"+name)"
   ]
  },
  {
   "cell_type": "code",
   "execution_count": null,
   "id": "469c813a",
   "metadata": {},
   "outputs": [],
   "source": []
  }
 ],
 "metadata": {
  "kernelspec": {
   "display_name": "Python 3 (ipykernel)",
   "language": "python",
   "name": "python3"
  },
  "language_info": {
   "codemirror_mode": {
    "name": "ipython",
    "version": 3
   },
   "file_extension": ".py",
   "mimetype": "text/x-python",
   "name": "python",
   "nbconvert_exporter": "python",
   "pygments_lexer": "ipython3",
   "version": "3.9.12"
  }
 },
 "nbformat": 4,
 "nbformat_minor": 5
}
